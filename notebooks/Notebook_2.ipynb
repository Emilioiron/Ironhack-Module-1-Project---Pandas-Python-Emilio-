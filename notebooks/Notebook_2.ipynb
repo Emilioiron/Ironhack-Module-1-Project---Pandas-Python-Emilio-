{
 "cells": [
  {
   "cell_type": "code",
   "execution_count": 28,
   "metadata": {},
   "outputs": [],
   "source": [
    "# important first import pandas and numpy\n",
    "import pandas as pd\n",
    "import numpy as np\n",
    "\n",
    "\n",
    "# To connect with daba base\n",
    "from sqlalchemy import create_engine"
   ]
  },
  {
   "cell_type": "code",
   "execution_count": 29,
   "metadata": {},
   "outputs": [],
   "source": [
    "# Create connection\n",
    "sqlitedb_path = '../data/raw/emiliopatio.db'\n",
    "engine = create_engine(f'sqlite:///{sqlitedb_path}')"
   ]
  },
  {
   "cell_type": "code",
   "execution_count": 44,
   "metadata": {},
   "outputs": [
    {
     "data": {
      "text/html": [
       "<div>\n",
       "<style scoped>\n",
       "    .dataframe tbody tr th:only-of-type {\n",
       "        vertical-align: middle;\n",
       "    }\n",
       "\n",
       "    .dataframe tbody tr th {\n",
       "        vertical-align: top;\n",
       "    }\n",
       "\n",
       "    .dataframe thead th {\n",
       "        text-align: right;\n",
       "    }\n",
       "</style>\n",
       "<table border=\"1\" class=\"dataframe\">\n",
       "  <thead>\n",
       "    <tr style=\"text-align: right;\">\n",
       "      <th></th>\n",
       "      <th>type</th>\n",
       "      <th>name</th>\n",
       "      <th>tbl_name</th>\n",
       "      <th>rootpage</th>\n",
       "      <th>sql</th>\n",
       "    </tr>\n",
       "  </thead>\n",
       "  <tbody>\n",
       "    <tr>\n",
       "      <th>0</th>\n",
       "      <td>table</td>\n",
       "      <td>rank_info</td>\n",
       "      <td>rank_info</td>\n",
       "      <td>2</td>\n",
       "      <td>CREATE TABLE rank_info (\\n\\tid BIGINT NOT NULL...</td>\n",
       "    </tr>\n",
       "    <tr>\n",
       "      <th>1</th>\n",
       "      <td>table</td>\n",
       "      <td>personal_info</td>\n",
       "      <td>personal_info</td>\n",
       "      <td>34</td>\n",
       "      <td>CREATE TABLE personal_info (\\n\\tid BIGINT NOT ...</td>\n",
       "    </tr>\n",
       "    <tr>\n",
       "      <th>2</th>\n",
       "      <td>table</td>\n",
       "      <td>business_info</td>\n",
       "      <td>business_info</td>\n",
       "      <td>155</td>\n",
       "      <td>CREATE TABLE business_info (\\n\\tid BIGINT NOT ...</td>\n",
       "    </tr>\n",
       "  </tbody>\n",
       "</table>\n",
       "</div>"
      ],
      "text/plain": [
       "    type           name       tbl_name  rootpage  \\\n",
       "0  table      rank_info      rank_info         2   \n",
       "1  table  personal_info  personal_info        34   \n",
       "2  table  business_info  business_info       155   \n",
       "\n",
       "                                                 sql  \n",
       "0  CREATE TABLE rank_info (\\n\\tid BIGINT NOT NULL...  \n",
       "1  CREATE TABLE personal_info (\\n\\tid BIGINT NOT ...  \n",
       "2  CREATE TABLE business_info (\\n\\tid BIGINT NOT ...  "
      ]
     },
     "execution_count": 44,
     "metadata": {},
     "output_type": "execute_result"
    }
   ],
   "source": [
    "# list all tables in database\n",
    "\n",
    "pd.read_sql_query(\"SELECT * FROM sqlite_master WHERE type='table'\", engine)"
   ]
  },
  {
   "cell_type": "code",
   "execution_count": null,
   "metadata": {},
   "outputs": [],
   "source": []
  },
  {
   "cell_type": "code",
   "execution_count": null,
   "metadata": {},
   "outputs": [],
   "source": []
  },
  {
   "cell_type": "code",
   "execution_count": 45,
   "metadata": {},
   "outputs": [],
   "source": [
    "# read tables and go to dataframe\n",
    "\n",
    "\n",
    "def read_tables():\n",
    "    business = pd.read_sql_query(\"SELECT * FROM business_info\", engine)\n",
    "    personal = pd.read_sql_query(\"SELECT * FROM personal_info\", engine)\n",
    "    rank = pd.read_sql_query(\"SELECT * FROM rank_info\", engine)\n",
    "\n",
    "    return rank\n",
    "\n",
    "\n",
    "\n"
   ]
  },
  {
   "cell_type": "code",
   "execution_count": 42,
   "metadata": {},
   "outputs": [
    {
     "data": {
      "text/html": [
       "<div>\n",
       "<style scoped>\n",
       "    .dataframe tbody tr th:only-of-type {\n",
       "        vertical-align: middle;\n",
       "    }\n",
       "\n",
       "    .dataframe tbody tr th {\n",
       "        vertical-align: top;\n",
       "    }\n",
       "\n",
       "    .dataframe thead th {\n",
       "        text-align: right;\n",
       "    }\n",
       "</style>\n",
       "<table border=\"1\" class=\"dataframe\">\n",
       "  <thead>\n",
       "    <tr style=\"text-align: right;\">\n",
       "      <th></th>\n",
       "      <th>id</th>\n",
       "      <th>Unnamed: 0</th>\n",
       "      <th>Source</th>\n",
       "      <th>worth</th>\n",
       "      <th>worthChange</th>\n",
       "      <th>realTimeWorth</th>\n",
       "      <th>realTimePosition</th>\n",
       "    </tr>\n",
       "  </thead>\n",
       "  <tbody>\n",
       "    <tr>\n",
       "      <th>0</th>\n",
       "      <td>2813</td>\n",
       "      <td>52</td>\n",
       "      <td>Technology  ==&gt; Amazon</td>\n",
       "      <td>112.0 BUSD</td>\n",
       "      <td>0.0 millions USD</td>\n",
       "      <td>None</td>\n",
       "      <td>1</td>\n",
       "    </tr>\n",
       "    <tr>\n",
       "      <th>1</th>\n",
       "      <td>8910</td>\n",
       "      <td>53</td>\n",
       "      <td>Technology  ==&gt; Microsoft</td>\n",
       "      <td>90.0 BUSD</td>\n",
       "      <td>-0.001 millions USD</td>\n",
       "      <td>None</td>\n",
       "      <td>2</td>\n",
       "    </tr>\n",
       "    <tr>\n",
       "      <th>2</th>\n",
       "      <td>3919</td>\n",
       "      <td>54</td>\n",
       "      <td>Finance and Investments  ==&gt; Berkshire Hathaway</td>\n",
       "      <td>84.0 BUSD</td>\n",
       "      <td>-0.002 millions USD</td>\n",
       "      <td>None</td>\n",
       "      <td>3</td>\n",
       "    </tr>\n",
       "    <tr>\n",
       "      <th>3</th>\n",
       "      <td>6449</td>\n",
       "      <td>55</td>\n",
       "      <td>Fashion &amp; Retail  ==&gt; LVMH</td>\n",
       "      <td>72.0 BUSD</td>\n",
       "      <td>0.0 millions USD</td>\n",
       "      <td>None</td>\n",
       "      <td>4</td>\n",
       "    </tr>\n",
       "    <tr>\n",
       "      <th>4</th>\n",
       "      <td>5032</td>\n",
       "      <td>56</td>\n",
       "      <td>Technology  ==&gt; Facebook</td>\n",
       "      <td>71.0 BUSD</td>\n",
       "      <td>0.0 millions USD</td>\n",
       "      <td>None</td>\n",
       "      <td>5</td>\n",
       "    </tr>\n",
       "    <tr>\n",
       "      <th>...</th>\n",
       "      <td>...</td>\n",
       "      <td>...</td>\n",
       "      <td>...</td>\n",
       "      <td>...</td>\n",
       "      <td>...</td>\n",
       "      <td>...</td>\n",
       "      <td>...</td>\n",
       "    </tr>\n",
       "    <tr>\n",
       "      <th>2203</th>\n",
       "      <td>2065</td>\n",
       "      <td>2255</td>\n",
       "      <td>Fashion &amp; Retail  ==&gt; fashion, entertainment</td>\n",
       "      <td>1.0 BUSD</td>\n",
       "      <td>0.0 millions USD</td>\n",
       "      <td>None</td>\n",
       "      <td>2134</td>\n",
       "    </tr>\n",
       "    <tr>\n",
       "      <th>2204</th>\n",
       "      <td>2207</td>\n",
       "      <td>2256</td>\n",
       "      <td>Manufacturing  ==&gt; electrical equipment</td>\n",
       "      <td>1.0 BUSD</td>\n",
       "      <td>nan millions USD</td>\n",
       "      <td>None</td>\n",
       "      <td>2134</td>\n",
       "    </tr>\n",
       "    <tr>\n",
       "      <th>2205</th>\n",
       "      <td>3442</td>\n",
       "      <td>2257</td>\n",
       "      <td>Manufacturing  ==&gt; electrical equipment</td>\n",
       "      <td>1.0 BUSD</td>\n",
       "      <td>0.0 millions USD</td>\n",
       "      <td>None</td>\n",
       "      <td>1856</td>\n",
       "    </tr>\n",
       "    <tr>\n",
       "      <th>2206</th>\n",
       "      <td>8144</td>\n",
       "      <td>2258</td>\n",
       "      <td>Manufacturing  ==&gt; printed circuit boards</td>\n",
       "      <td>1.0 BUSD</td>\n",
       "      <td>0.0 millions USD</td>\n",
       "      <td>None</td>\n",
       "      <td>1978</td>\n",
       "    </tr>\n",
       "    <tr>\n",
       "      <th>2207</th>\n",
       "      <td>9807</td>\n",
       "      <td>2259</td>\n",
       "      <td>Diversified  ==&gt; diversified</td>\n",
       "      <td>1.0 BUSD</td>\n",
       "      <td>nan millions USD</td>\n",
       "      <td>None</td>\n",
       "      <td>1978</td>\n",
       "    </tr>\n",
       "  </tbody>\n",
       "</table>\n",
       "<p>2208 rows × 7 columns</p>\n",
       "</div>"
      ],
      "text/plain": [
       "        id  Unnamed: 0                                           Source  \\\n",
       "0     2813          52                           Technology  ==> Amazon   \n",
       "1     8910          53                        Technology  ==> Microsoft   \n",
       "2     3919          54  Finance and Investments  ==> Berkshire Hathaway   \n",
       "3     6449          55                       Fashion & Retail  ==> LVMH   \n",
       "4     5032          56                         Technology  ==> Facebook   \n",
       "...    ...         ...                                              ...   \n",
       "2203  2065        2255     Fashion & Retail  ==> fashion, entertainment   \n",
       "2204  2207        2256          Manufacturing  ==> electrical equipment   \n",
       "2205  3442        2257          Manufacturing  ==> electrical equipment   \n",
       "2206  8144        2258        Manufacturing  ==> printed circuit boards   \n",
       "2207  9807        2259                     Diversified  ==> diversified   \n",
       "\n",
       "           worth          worthChange realTimeWorth  realTimePosition  \n",
       "0     112.0 BUSD     0.0 millions USD          None                 1  \n",
       "1      90.0 BUSD  -0.001 millions USD          None                 2  \n",
       "2      84.0 BUSD  -0.002 millions USD          None                 3  \n",
       "3      72.0 BUSD     0.0 millions USD          None                 4  \n",
       "4      71.0 BUSD     0.0 millions USD          None                 5  \n",
       "...          ...                  ...           ...               ...  \n",
       "2203    1.0 BUSD     0.0 millions USD          None              2134  \n",
       "2204    1.0 BUSD     nan millions USD          None              2134  \n",
       "2205    1.0 BUSD     0.0 millions USD          None              1856  \n",
       "2206    1.0 BUSD     0.0 millions USD          None              1978  \n",
       "2207    1.0 BUSD     nan millions USD          None              1978  \n",
       "\n",
       "[2208 rows x 7 columns]"
      ]
     },
     "execution_count": 42,
     "metadata": {},
     "output_type": "execute_result"
    }
   ],
   "source": [
    "read_tables()"
   ]
  },
  {
   "cell_type": "code",
   "execution_count": 43,
   "metadata": {},
   "outputs": [
    {
     "ename": "NameError",
     "evalue": "name 'rank' is not defined",
     "output_type": "error",
     "traceback": [
      "\u001b[0;31m---------------------------------------------------------------------------\u001b[0m",
      "\u001b[0;31mNameError\u001b[0m                                 Traceback (most recent call last)",
      "\u001b[0;32m<ipython-input-43-9807155d42fa>\u001b[0m in \u001b[0;36m<module>\u001b[0;34m\u001b[0m\n\u001b[0;32m----> 1\u001b[0;31m \u001b[0mrank\u001b[0m\u001b[0;34m\u001b[0m\u001b[0;34m\u001b[0m\u001b[0m\n\u001b[0m",
      "\u001b[0;31mNameError\u001b[0m: name 'rank' is not defined"
     ]
    }
   ],
   "source": [
    "rank"
   ]
  },
  {
   "cell_type": "code",
   "execution_count": null,
   "metadata": {},
   "outputs": [],
   "source": [
    "df_merge_personal_and_business = pd.merge(personal, business, on='id')\n",
    "df_all = pd.merge(df_merge_personal_and_business, rank, on='id')\n"
   ]
  },
  {
   "cell_type": "code",
   "execution_count": null,
   "metadata": {},
   "outputs": [],
   "source": [
    "# MERGE AND SAVE TABLES to CSV\n",
    "# 1. merge personal and business dataframes\n",
    "# 2. merge personal,business and rank dataframes\n",
    "# 3. Save all tables to CSV file\n",
    "\n",
    "\n",
    "df_all = pd.DataFrame()\n",
    "\n",
    "def merge_tables():\n",
    "    df_merge_personal_and_business = pd.merge(personal, business, on='id')\n",
    "    df_all = pd.merge(df_merge_personal_and_business, rank, on='id')\n",
    "    return df_all\n"
   ]
  },
  {
   "cell_type": "code",
   "execution_count": null,
   "metadata": {},
   "outputs": [],
   "source": [
    "df_all"
   ]
  },
  {
   "cell_type": "code",
   "execution_count": null,
   "metadata": {},
   "outputs": [],
   "source": [
    "# Save table merged as df_all \n",
    "def save_table(df):\n",
    "    df_all.to_csv('df_all.csv')\n",
    "    return \n",
    "\n",
    "# Call function\n",
    "save_table(df_all)\n",
    "df_all"
   ]
  },
  {
   "cell_type": "code",
   "execution_count": null,
   "metadata": {},
   "outputs": [],
   "source": [
    "# list of columns to delete\n",
    "\n",
    "def delete_columns():\n",
    "    all_columns = list(df_all.columns)\n",
    "    columns_valids = ['id', 'age','worth','name', 'position']\n",
    "    return df_all\n"
   ]
  },
  {
   "cell_type": "code",
   "execution_count": null,
   "metadata": {},
   "outputs": [],
   "source": [
    "  all_columns = list(df_all.columns)\n",
    "all_columns\n"
   ]
  },
  {
   "cell_type": "code",
   "execution_count": null,
   "metadata": {},
   "outputs": [],
   "source": [
    "# rename columns names \n",
    "\n",
    "def rename_columns_names():\n",
    "    df_all.rename(index={e: e+1 for e in range(len(df_all))}, \n",
    "                    columns={'lastName': 'ppplastname',\n",
    "                            'Source': 'source',\n",
    "                            'worthChange':'worthchange',\n",
    "                            'realTimeWorth':'realtimeworth',\n",
    "                            'realTimePosition':'realtimeposition'}, \n",
    "                    inplace=True)\n",
    "    return \n"
   ]
  },
  {
   "cell_type": "code",
   "execution_count": null,
   "metadata": {},
   "outputs": [],
   "source": [
    "df_all"
   ]
  },
  {
   "cell_type": "code",
   "execution_count": null,
   "metadata": {},
   "outputs": [],
   "source": [
    "# delete invalid columns for analysis\n",
    "\n",
    "data = df_all[[x for x in df_all.columns if x in columns_valids]]\n",
    "data"
   ]
  },
  {
   "cell_type": "code",
   "execution_count": null,
   "metadata": {},
   "outputs": [],
   "source": []
  },
  {
   "cell_type": "code",
   "execution_count": null,
   "metadata": {},
   "outputs": [],
   "source": [
    "data.dtypes"
   ]
  },
  {
   "cell_type": "code",
   "execution_count": null,
   "metadata": {},
   "outputs": [],
   "source": [
    "data._get_numeric_data()"
   ]
  },
  {
   "cell_type": "code",
   "execution_count": null,
   "metadata": {},
   "outputs": [],
   "source": []
  },
  {
   "cell_type": "code",
   "execution_count": null,
   "metadata": {},
   "outputs": [],
   "source": []
  },
  {
   "cell_type": "code",
   "execution_count": null,
   "metadata": {},
   "outputs": [],
   "source": []
  },
  {
   "cell_type": "code",
   "execution_count": null,
   "metadata": {},
   "outputs": [],
   "source": [
    "# probar añadiendo esta columna al df y eliminando la columna name\n",
    "c = df_all['name'].str.lower()\n",
    "c\n",
    "\n",
    "\n"
   ]
  },
  {
   "cell_type": "code",
   "execution_count": null,
   "metadata": {},
   "outputs": [],
   "source": [
    "df_all['name'] = df_all['name'].apply(lambda x: x.lower())\n",
    "df_all\n"
   ]
  },
  {
   "cell_type": "code",
   "execution_count": null,
   "metadata": {},
   "outputs": [],
   "source": [
    "df_all['lastname'] = df_all['lastname'].apply(lambda x: x.lower())\n",
    "df_all\n"
   ]
  },
  {
   "cell_type": "code",
   "execution_count": null,
   "metadata": {},
   "outputs": [],
   "source": [
    "# for drop write inplace = True to final\n",
    "\n",
    "df_all.drop(['unnamed: 0','unnamed: 0_x', 'unnamed: 0_y', 'realtimeworth'], axis=1, inplace = True)\n",
    "df_all"
   ]
  },
  {
   "cell_type": "code",
   "execution_count": null,
   "metadata": {},
   "outputs": [],
   "source": [
    "df_all.isnull().sum()"
   ]
  },
  {
   "cell_type": "code",
   "execution_count": null,
   "metadata": {},
   "outputs": [],
   "source": [
    "df_all['age'] = df_all['age'].str.replace('years old', '')\n",
    "df_all['age']"
   ]
  },
  {
   "cell_type": "code",
   "execution_count": null,
   "metadata": {},
   "outputs": [],
   "source": [
    "df_all['age'] = df_all['age'].str.replace('years old', '')\n",
    "df_all['worthchange'] = df_all['worthchange'].str.replace('millions USD', '')\n",
    "df_all.head(20)"
   ]
  },
  {
   "cell_type": "code",
   "execution_count": null,
   "metadata": {},
   "outputs": [],
   "source": []
  }
 ],
 "metadata": {
  "kernelspec": {
   "display_name": "Python 3",
   "language": "python",
   "name": "python3"
  },
  "language_info": {
   "codemirror_mode": {
    "name": "ipython",
    "version": 3
   },
   "file_extension": ".py",
   "mimetype": "text/x-python",
   "name": "python",
   "nbconvert_exporter": "python",
   "pygments_lexer": "ipython3",
   "version": "3.7.5"
  }
 },
 "nbformat": 4,
 "nbformat_minor": 4
}
