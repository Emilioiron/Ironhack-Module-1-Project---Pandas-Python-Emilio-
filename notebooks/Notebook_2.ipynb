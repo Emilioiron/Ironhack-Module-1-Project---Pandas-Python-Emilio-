{
 "cells": [
  {
   "cell_type": "code",
   "execution_count": null,
   "metadata": {},
   "outputs": [],
   "source": [
    "# important first import pandas and numpy\n",
    "import pandas as pd\n",
    "import numpy as np\n",
    "import os\n",
    "\n",
    "\n",
    "# To connect with daba base\n",
    "from sqlalchemy import create_engine"
   ]
  },
  {
   "cell_type": "code",
   "execution_count": null,
   "metadata": {},
   "outputs": [],
   "source": [
    "# Create connection\n",
    "sqlitedb_path = '../data/raw/emiliopatio.db'\n",
    "engine = create_engine(f'sqlite:///{sqlitedb_path}')"
   ]
  },
  {
   "cell_type": "code",
   "execution_count": null,
   "metadata": {},
   "outputs": [],
   "source": [
    "# list all tables in database\n",
    "\n",
    "pd.read_sql_query(\"SELECT * FROM sqlite_master WHERE type='table'\", engine)"
   ]
  },
  {
   "cell_type": "code",
   "execution_count": null,
   "metadata": {},
   "outputs": [],
   "source": [
    "# 1. Read tables and go to dataframe\n",
    "# 2. Merge personal and business dataframes\n",
    "# 3. Merge personal,business and rank dataframes\n",
    "# 4. Call to function\n",
    "\n",
    "\n",
    "def init_table():\n",
    "    business = pd.read_sql_query(\"SELECT * FROM business_info\", engine)\n",
    "    personal = pd.read_sql_query(\"SELECT * FROM personal_info\", engine)\n",
    "    rank = pd.read_sql_query(\"SELECT * FROM rank_info\", engine)\n",
    "    # remove null values from column \"position\" df range \n",
    "    # since if it does not give warning of the type SettingwithCopyWarning\n",
    "    rank = rank.dropna()\n",
    "    df_merge_personal_and_business = pd.merge(personal, business, on='id')\n",
    "    df_all = pd.merge(df_merge_personal_and_business, rank, on='id')\n",
    "    return df_all\n",
    "df_all = init_table()\n"
   ]
  },
  {
   "cell_type": "code",
   "execution_count": null,
   "metadata": {},
   "outputs": [],
   "source": [
    "\n",
    "# Save all tables to CSV file\n",
    "def save_table(df):\n",
    "    \n",
    "    df_all.to_csv('df_all.csv')\n",
    "    return \n",
    "\n",
    "# Call function\n",
    "save_table(df_all)\n",
    "df_all\n",
    "\n"
   ]
  },
  {
   "cell_type": "code",
   "execution_count": null,
   "metadata": {},
   "outputs": [],
   "source": [
    "def delete_columns():\n",
    "    # define valid columns\n",
    "    valid_columns = ['id', 'age','worth','lastName', 'position']\n",
    "    # create new df with valid columns\n",
    "    data = df_all[[x for x in df_all.columns if x in valid_columns]]\n",
    "    \n",
    "    return data\n",
    "\n",
    "data = delete_columns()\n",
    "data"
   ]
  },
  {
   "cell_type": "code",
   "execution_count": null,
   "metadata": {},
   "outputs": [],
   "source": [
    "# Remove column text\n",
    "# See the WARNING in https://www.dataquest.io/blog/settingwithcopywarning/\n",
    "def replace_text():\n",
    "    data.loc[:,'worth'] = data['worth'].str.replace('BUSD', '')\n",
    "    data.loc[:,'age'] = data['age'].str.replace('years old', '')\n",
    "    data.rename(columns={'worth': 'worth 2019 in BUSD'}, inplace = True)\n",
    "    return data\n",
    "\n",
    "data = replace_text()\n",
    "data\n"
   ]
  },
  {
   "cell_type": "code",
   "execution_count": null,
   "metadata": {},
   "outputs": [],
   "source": [
    "def lower_text():\n",
    "    data['lastName'] = data['lastName'].apply(lambda x: x.lower())\n",
    "    return data\n",
    "\n",
    "data = lower_text()\n",
    "data"
   ]
  },
  {
   "cell_type": "code",
   "execution_count": null,
   "metadata": {},
   "outputs": [],
   "source": [
    "def change_column_type(data):\n",
    "    object_column = list(data.loc[:, data.dtypes == np.object])\n",
    "    \n",
    "    for i in object_column:\n",
    "        if i != 'lastName':\n",
    "            data[i] = pd.to_numeric(data[i])\n",
    "        \n",
    "    return data\n",
    "data = change_column_type(data)\n",
    "data"
   ]
  },
  {
   "cell_type": "code",
   "execution_count": null,
   "metadata": {},
   "outputs": [],
   "source": [
    "# Save first clean table to CSV file\n",
    "def save_table(df):\n",
    "    \n",
    "    data.to_csv('data.csv')\n",
    "    return \n",
    "\n",
    "# Call function\n",
    "save_table(data)\n"
   ]
  },
  {
   "cell_type": "code",
   "execution_count": null,
   "metadata": {},
   "outputs": [],
   "source": [
    "data.dtypes"
   ]
  },
  {
   "cell_type": "code",
   "execution_count": null,
   "metadata": {},
   "outputs": [],
   "source": [
    "# pasar a int o float all columns \n",
    "# descargar el df de fortune 500"
   ]
  }
 ],
 "metadata": {
  "kernelspec": {
   "display_name": "Python 3",
   "language": "python",
   "name": "python3"
  },
  "language_info": {
   "codemirror_mode": {
    "name": "ipython",
    "version": 3
   },
   "file_extension": ".py",
   "mimetype": "text/x-python",
   "name": "python",
   "nbconvert_exporter": "python",
   "pygments_lexer": "ipython3",
   "version": "3.7.5"
  }
 },
 "nbformat": 4,
 "nbformat_minor": 4
}
