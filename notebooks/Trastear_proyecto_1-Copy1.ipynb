{
 "cells": [
  {
   "cell_type": "code",
   "execution_count": null,
   "metadata": {},
   "outputs": [],
   "source": [
    "import pandas as pd\n",
    "import numpy as np\n",
    "import requests\n",
    "import html5lib\n",
    "import matplotlib\n",
    "import matplotlib.pyplot as plt\n"
   ]
  },
  {
   "cell_type": "code",
   "execution_count": null,
   "metadata": {},
   "outputs": [],
   "source": [
    "def adquire_new_df():\n",
    "    dfs = pd.read_html('https://en.wikipedia.org/wiki/The_World%27s_Billionaires')\n",
    "    data_new = dfs[11]\n",
    "    data_new.to_csv('../data/processed/prueba_jupyter.csv')\n",
    "    return data_new\n",
    "df = adquire_new_df()\n",
    "data_new = df"
   ]
  },
  {
   "cell_type": "code",
   "execution_count": null,
   "metadata": {},
   "outputs": [],
   "source": []
  },
  {
   "cell_type": "code",
   "execution_count": null,
   "metadata": {},
   "outputs": [],
   "source": [
    "def adquire_init_df():\n",
    "    data = pd.read_csv(\"../data/processed/data.csv\", index_col=0)\n",
    "    return data\n",
    "data = adquire_init_df()\n",
    "data\n"
   ]
  },
  {
   "cell_type": "code",
   "execution_count": null,
   "metadata": {},
   "outputs": [],
   "source": [
    "\"\"\"year = input('Indica un año entre 2017 y 2010:')\n",
    "year\"\"\""
   ]
  },
  {
   "cell_type": "code",
   "execution_count": null,
   "metadata": {},
   "outputs": [],
   "source": [
    "\"\"\"def select_year(str):\n",
    "    data_year = str\n",
    "    error = 'ValueError'\n",
    "    if data_year == '2010':\n",
    "        data_new = dfs[11]\n",
    "        return data_new\n",
    "    elif data_year == '2011':\n",
    "        data_new = dfs[10]\n",
    "        return data_new\n",
    "    elif data_year == '2012':\n",
    "        data_new = dfs[9]\n",
    "        return data_new\n",
    "    elif data_year == '2013':\n",
    "        data_new = dfs[8]\n",
    "        return data_new\n",
    "    elif data_year == '2014':\n",
    "        data_new = dfs[7]\n",
    "        return data_new\n",
    "    elif data_year == '2015':\n",
    "        data_new = dfs[6]\n",
    "        return data_new\n",
    "    elif data_year == '2016':\n",
    "        data_new = dfs[5]\n",
    "        return data_new\n",
    "    elif data_year == '2017':\n",
    "        data_new = dfs[4]\n",
    "        return data_new\n",
    "    else:\n",
    "        raise ValueError('Value not admited')\n",
    " \n",
    "\n",
    "data_new = select_year(year)\n",
    "\"\"\""
   ]
  },
  {
   "cell_type": "code",
   "execution_count": null,
   "metadata": {},
   "outputs": [],
   "source": [
    "data_new.columns"
   ]
  },
  {
   "cell_type": "code",
   "execution_count": null,
   "metadata": {},
   "outputs": [],
   "source": [
    "\n",
    "def delete_columns(df):\n",
    "    \n",
    "    # define valid columns\n",
    "    valid_columns = ['Name', 'Net worth (USD)']\n",
    "    # create new df with valid columns\n",
    "    data_new = df[[x for x in df.columns if x in valid_columns]]\n",
    "    data_new.rename(columns={'Net worth (USD)': 'Net_worth_(USD)'}, inplace = True)\n",
    "    return data_new\n",
    "\n",
    "data_new = delete_columns(data_new)\n",
    "data_new\n"
   ]
  },
  {
   "cell_type": "code",
   "execution_count": null,
   "metadata": {},
   "outputs": [],
   "source": [
    "def replace_text(df):\n",
    "    df.loc[:,'Net_worth_(USD)'] = df['Net_worth_(USD)'].str.replace('billion', '')\n",
    "    df.loc[:,'Net_worth_(USD)'] = df['Net_worth_(USD)'].str.replace('$', '')\n",
    "    df.loc[:,'Name'] = df['Name'].str.replace(' & family', '')\n",
    "    df.loc[:,'Name'] = df['Name'].str.replace(' ', '_')\n",
    "    df.rename(columns={'Net_worth_(USD)': 'worth 2010 in BUSD'}, inplace = True)\n",
    "    return data_new\n",
    "data_new = replace_text(data_new)\n",
    "data_new"
   ]
  },
  {
   "cell_type": "code",
   "execution_count": null,
   "metadata": {},
   "outputs": [],
   "source": [
    "data_aux = data_new\n",
    "name_list = data_aux['Name'].tolist()\n",
    "name_list\n"
   ]
  },
  {
   "cell_type": "code",
   "execution_count": null,
   "metadata": {},
   "outputs": [],
   "source": [
    "list_lastName = [i.split('_', 1)[1] for i in name_list] # Delete firstName_\n",
    "list_lastName"
   ]
  },
  {
   "cell_type": "code",
   "execution_count": null,
   "metadata": {},
   "outputs": [],
   "source": [
    "data_aux['new_column'] = pd.Series(list_lastName).values\n",
    "data_aux.drop('Name', axis=1, inplace=True)\n",
    "data_aux.rename(columns={'new_column': 'lastName'}, inplace = True)\n",
    "\n",
    "data_aux"
   ]
  },
  {
   "cell_type": "code",
   "execution_count": null,
   "metadata": {},
   "outputs": [],
   "source": [
    "\"\"\"\n",
    "def split_column(data_new):\n",
    "    # new data frame with split value columns\n",
    "    \n",
    "    new = data_new['Name'].str.split(' ', n = 1, expand = True) \n",
    " \n",
    "    # making separate last name column from new data frame\n",
    "    #data_new['lastName']= new[1]\n",
    "    \n",
    "    # Dropping old Name columns\n",
    "    new.drop(columns =[0], inplace = True)\n",
    "    #new[1] = new.rename['lastName']\n",
    "    new.rename(columns={1: 'lastName'}, inplace = True)\n",
    "    return new\n",
    "new = split_column(data_new)\n",
    "new\n",
    "\n",
    "\"\"\""
   ]
  },
  {
   "cell_type": "code",
   "execution_count": null,
   "metadata": {},
   "outputs": [],
   "source": [
    "\"\"\"def join(df1,df2):\n",
    "    data_new_2 = pd.concat([df1, df2], axis=1, ignore_index=True)\n",
    "    data_new_2 = df1.join(df2)\n",
    "    data_new_2.drop(columns =['Name'], inplace = True)\n",
    "    #df_final = df.drop_duplicates(subset='lastName', keep='first')\n",
    "    return data_new_2\n",
    "data_new_2 = join(data_new, data_aux)\n",
    "data_new_2\"\"\""
   ]
  },
  {
   "cell_type": "code",
   "execution_count": null,
   "metadata": {},
   "outputs": [],
   "source": [
    "def lower_text(df):\n",
    "    df['lastName'] = df['lastName'].apply(lambda x: x.lower())\n",
    "    return data_aux\n",
    "\n",
    "data_aux = lower_text(data_aux)\n",
    "data_aux\n"
   ]
  },
  {
   "cell_type": "code",
   "execution_count": null,
   "metadata": {},
   "outputs": [],
   "source": [
    "data_new.info()"
   ]
  },
  {
   "cell_type": "code",
   "execution_count": null,
   "metadata": {},
   "outputs": [],
   "source": [
    "def change_column_type_2(df):\n",
    "    df['worth 2010 in BUSD'] = df['worth 2010 in BUSD'].astype(float)\n",
    "    return data_aux\n",
    "data_aux = change_column_type_2(data_aux)\n",
    "data_aux.dtypes"
   ]
  },
  {
   "cell_type": "markdown",
   "metadata": {},
   "source": []
  },
  {
   "cell_type": "code",
   "execution_count": null,
   "metadata": {},
   "outputs": [],
   "source": [
    "def final_table(df1,df2):\n",
    "    df = pd.merge(df1, df2, on='lastName')\n",
    "    df_final = df.drop_duplicates(subset='lastName', keep='first')\n",
    "    return df_final\n",
    "df_final = final_table(data, data_aux)\n",
    "df_final"
   ]
  },
  {
   "cell_type": "code",
   "execution_count": null,
   "metadata": {},
   "outputs": [],
   "source": [
    "# Save first clean table to CSV file\n",
    "def save_table(df):\n",
    "    \n",
    "    df_final.to_csv('../data/processed/df_final.csv')\n",
    "    \n",
    "\n",
    "# Call function\n",
    "save_table(df_final)"
   ]
  },
  {
   "cell_type": "code",
   "execution_count": null,
   "metadata": {},
   "outputs": [],
   "source": [
    "def wealth_difference(df):\n",
    "    df_final['difference_19_10']= df_final['worth_2019_in_BUSD']- df_final['worth 2010 in BUSD']\n",
    "    return df_final\n",
    "df_final = wealth_difference(df_final)\n",
    "df_final"
   ]
  },
  {
   "cell_type": "code",
   "execution_count": null,
   "metadata": {},
   "outputs": [],
   "source": [
    "title = 'Diference_BUSD'\n",
    "\n",
    "def visualize(df, title):\n",
    "   \n",
    "    barchart = df.plot.bar(x=\"lastName\", y=\"difference_19_10\", \n",
    "                rot=70, title=title)\n",
    "    return barchart\n",
    "\n",
    "barchart = visualize(df_final, title)\n",
    "        \n",
    "\n",
    "\n"
   ]
  },
  {
   "cell_type": "code",
   "execution_count": null,
   "metadata": {},
   "outputs": [],
   "source": [
    "def save_barchart(barchart):\n",
    "    fig = barchart.get_figure()\n",
    "    fig.savefig('../data/results/'+ title + '.pdf')\n",
    "    return\n",
    "\n",
    "save_barchart(barchart)"
   ]
  },
  {
   "cell_type": "code",
   "execution_count": null,
   "metadata": {},
   "outputs": [],
   "source": []
  }
 ],
 "metadata": {
  "kernelspec": {
   "display_name": "Python 3",
   "language": "python",
   "name": "python3"
  },
  "language_info": {
   "codemirror_mode": {
    "name": "ipython",
    "version": 3
   },
   "file_extension": ".py",
   "mimetype": "text/x-python",
   "name": "python",
   "nbconvert_exporter": "python",
   "pygments_lexer": "ipython3",
   "version": "3.7.5"
  }
 },
 "nbformat": 4,
 "nbformat_minor": 4
}
